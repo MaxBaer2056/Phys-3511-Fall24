{
 "cells": [
  {
   "cell_type": "markdown",
   "id": "14d461ca",
   "metadata": {},
   "source": [
    "# In-Class Notebook: Python Review\n",
    "Complete notebook in class and upload to your github repository."
   ]
  },
  {
   "cell_type": "markdown",
   "id": "18093846",
   "metadata": {},
   "source": [
    " 1. Write a code that concatenates the two lists below index-wise. Create a new list that contains as it 0th index the concatenation of list1 and list2's 0th index, its 1st index as the concatenation of list1 and list2's 1st index and so on. \n",
    " \n",
    " Expected output:\n",
    " > ['who', 'Ya', 'gonna', 'call']"
   ]
  },
  {
   "cell_type": "code",
   "execution_count": 41,
   "id": "40da6c70",
   "metadata": {},
   "outputs": [
    {
     "data": {
      "text/plain": [
       "'who Ya gonna call'"
      ]
     },
     "execution_count": 41,
     "metadata": {},
     "output_type": "execute_result"
    }
   ],
   "source": [
    "my_list1 = ['wh','Y','gon','ca']\n",
    "my_list2 = ['o','a','na','ll']\n",
    "#solution\n",
    "import numpy as np\n",
    "#print(type(my_list1))\n",
    "#print(type(my_list2))\n",
    "arr = np.array(my_list1)\n",
    "arr2= np.array(my_list2)\n",
    "arr[0]+arr2[0]+' '+arr[1]+arr2[1]+' '+arr[2]+arr2[2]+' '+arr[3]+arr2[3]\n",
    "\n"
   ]
  },
  {
   "cell_type": "markdown",
   "id": "cde39cf8",
   "metadata": {},
   "source": [
    "2. Write a program to iterate the first 10 numbers (0 to 9) and in each iteration, print the sum of the current and previous number.\n",
    "\n",
    "Expected output:\n",
    "> printing current and previous number sum in a range(10)\\\n",
    "> current number: 0 previous number: 0 sum: 0\\\n",
    "> current number: 1 previous number: 0 sum: 1\\\n",
    "> current number: 2 previous number: 1 sum: 3\\\n",
    "> current number: 3 previous number: 2 sum: 5\\\n",
    "> current number: 4 previous number: 3 sum: 7\\\n",
    "> current number: 5 previous number: 4 sum: 9\\\n",
    "> current number: 6 previous number: 5 sum: 11\\\n",
    "> current number: 7 previous number: 6 sum: 13\\\n",
    "> current number: 8 previous number: 7 sum: 15\\\n",
    "> current number: 9 previous number: 8 sum: 17"
   ]
  },
  {
   "cell_type": "code",
   "execution_count": 85,
   "id": "0ff36244",
   "metadata": {},
   "outputs": [
    {
     "name": "stdout",
     "output_type": "stream",
     "text": [
      "Number Sequencing adding to the previous until 9\n",
      "Current number: 1, Previous number: 0, Sum: 1\n",
      "Current number: 2, Previous number: 1, Sum: 3\n",
      "Current number: 3, Previous number: 2, Sum: 5\n",
      "Current number: 4, Previous number: 3, Sum: 7\n",
      "Current number: 5, Previous number: 4, Sum: 9\n",
      "Current number: 6, Previous number: 5, Sum: 11\n",
      "Current number: 7, Previous number: 6, Sum: 13\n",
      "Current number: 8, Previous number: 7, Sum: 15\n",
      "Current number: 9, Previous number: 8, Sum: 17\n"
     ]
    }
   ],
   "source": [
    "#solution\n",
    "a = 0\n",
    "print(\"Number Sequencing adding to the previous until 9\")\n",
    "for b in range(1,10,1):\n",
    "    sumAB = a + b\n",
    "    print(f\"Current number: {b}, Previous number: {a}, Sum: {sumAB}\")\n",
    "    a = b\n",
    "    \n"
   ]
  },
  {
   "cell_type": "markdown",
   "id": "8fe6e441",
   "metadata": {},
   "source": [
    " 3. Define a function called **is_odd** that takes an integer as its argument and tells the user if it is even, odd, or zero.\n",
    " \n",
    " Expected Output:\n",
    "> is_odd(1) \n",
    ">> Odd\n",
    "\n",
    "> is_odd(2)\n",
    ">> Even\n",
    "\n",
    "> is_odd(4)\n",
    ">> Even\n",
    "\n",
    "> is_odd(7)\n",
    ">> Odd\n",
    "\n",
    "> is_odd(0)\n",
    ">> integer is zero"
   ]
  },
  {
   "cell_type": "code",
   "execution_count": 119,
   "id": "2ab8aaa5",
   "metadata": {},
   "outputs": [
    {
     "name": "stdout",
     "output_type": "stream",
     "text": [
      "34 Even\n",
      "1 Odd\n",
      "0 integer is zero\n",
      "7 Odd\n",
      "94346 Even\n"
     ]
    }
   ],
   "source": [
    "#solution\n",
    "def is_odd(number):\n",
    "    if number == 0:\n",
    "        print(number,\"integer is zero\")\n",
    "    elif number % 2 == 0:\n",
    "        print(number, \"Even\")\n",
    "    else:\n",
    "        print(number,\"Odd\")\n",
    "is_odd(34)  \n",
    "is_odd(1)  \n",
    "is_odd(0)  \n",
    "is_odd(7)  \n",
    "is_odd(94346)  "
   ]
  },
  {
   "cell_type": "markdown",
   "id": "bd3e504a",
   "metadata": {},
   "source": [
    "4. Unpack the tuple tuple1.\n",
    "Expected output:\n",
    "> tuple1 = (0, 5, 10, 15)\\\n",
    "> #Your code\\\n",
    "> print(a) #should print 0\\\n",
    "> print(b) #should print 5\\\n",
    "> print(c) #should print 10\\\n",
    "> print(d) #should print 15"
   ]
  },
  {
   "cell_type": "code",
   "execution_count": 97,
   "id": "c5da6573",
   "metadata": {},
   "outputs": [
    {
     "name": "stdout",
     "output_type": "stream",
     "text": [
      "a: 0\n",
      "b: 5\n",
      "c: 10\n",
      "d: 15\n"
     ]
    }
   ],
   "source": [
    "tuple1 = (0, 5, 10, 15)\n",
    "#solution\n",
    "print(\"a:\", tuple1[0])\n",
    "print(\"b:\", tuple1[1])\n",
    "print(\"c:\", tuple1[2])\n",
    "print(\"d:\", tuple1[3])\n",
    "\n"
   ]
  },
  {
   "cell_type": "code",
   "execution_count": null,
   "id": "33e91231-e137-47c2-b485-59cea5fbb8d1",
   "metadata": {},
   "outputs": [],
   "source": []
  }
 ],
 "metadata": {
  "kernelspec": {
   "display_name": "Python 3 (ipykernel)",
   "language": "python",
   "name": "python3"
  },
  "language_info": {
   "codemirror_mode": {
    "name": "ipython",
    "version": 3
   },
   "file_extension": ".py",
   "mimetype": "text/x-python",
   "name": "python",
   "nbconvert_exporter": "python",
   "pygments_lexer": "ipython3",
   "version": "3.11.5"
  }
 },
 "nbformat": 4,
 "nbformat_minor": 5
}
