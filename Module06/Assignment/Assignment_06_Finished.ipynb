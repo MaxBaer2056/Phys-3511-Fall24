{
 "cells": [
  {
   "cell_type": "markdown",
   "metadata": {},
   "source": [
    "# Assignment 6:  Due Thursday 10/10\n",
    "\n",
    "In this assignment you will become familiar with the Pandas library through the exploration of a Nobel prize data set. \n",
    "\n",
    "This data set was taken from the Kaggle website (https://www.kaggle.com/). If you are interested in data science and / or analysis, this website offers tons of data sets in various formats that you can access. They even post compititions that you can enter, some with money prizes awarded.\n",
    "\n",
    "The libraries needed for this assignment are listed below."
   ]
  },
  {
   "cell_type": "code",
   "execution_count": 311,
   "metadata": {},
   "outputs": [],
   "source": [
    "import pandas as pd\n",
    "import numpy as np\n",
    "import matplotlib.pyplot as plt\n",
    "\n",
    "%matplotlib inline"
   ]
  },
  {
   "cell_type": "markdown",
   "metadata": {},
   "source": [
    "# 1a)\n",
    "\n",
    "Read in the data set 'data/nobel.csv' into a DataFrame using Pandas ."
   ]
  },
  {
   "cell_type": "code",
   "execution_count": 314,
   "metadata": {},
   "outputs": [],
   "source": [
    "df=pd.read_csv('/Users/Maxwe/Desktop/Scientific Computing II 2024/nobel.csv')"
   ]
  },
  {
   "cell_type": "markdown",
   "metadata": {},
   "source": [
    "# 1b)\n",
    "\n",
    "Display below the output from the DataFrame functions *info*."
   ]
  },
  {
   "cell_type": "code",
   "execution_count": 317,
   "metadata": {},
   "outputs": [
    {
     "name": "stdout",
     "output_type": "stream",
     "text": [
      "Dataset Info:\n",
      "<class 'pandas.core.frame.DataFrame'>\n",
      "RangeIndex: 911 entries, 0 to 910\n",
      "Data columns (total 18 columns):\n",
      " #   Column                Non-Null Count  Dtype \n",
      "---  ------                --------------  ----- \n",
      " 0   year                  911 non-null    int64 \n",
      " 1   category              911 non-null    object\n",
      " 2   prize                 911 non-null    object\n",
      " 3   motivation            823 non-null    object\n",
      " 4   prize_share           911 non-null    object\n",
      " 5   laureate_id           911 non-null    int64 \n",
      " 6   laureate_type         911 non-null    object\n",
      " 7   full_name             911 non-null    object\n",
      " 8   birth_date            883 non-null    object\n",
      " 9   birth_city            883 non-null    object\n",
      " 10  birth_country         885 non-null    object\n",
      " 11  sex                   885 non-null    object\n",
      " 12  organization_name     665 non-null    object\n",
      " 13  organization_city     667 non-null    object\n",
      " 14  organization_country  667 non-null    object\n",
      " 15  death_date            593 non-null    object\n",
      " 16  death_city            576 non-null    object\n",
      " 17  death_country         582 non-null    object\n",
      "dtypes: int64(2), object(16)\n",
      "memory usage: 128.2+ KB\n"
     ]
    }
   ],
   "source": [
    "print(\"Dataset Info:\")\n",
    "df.info()"
   ]
  },
  {
   "cell_type": "markdown",
   "metadata": {},
   "source": [
    "# 1c)\n",
    "\n",
    "Show the first 5 listings of the dataset."
   ]
  },
  {
   "cell_type": "code",
   "execution_count": 361,
   "metadata": {},
   "outputs": [
    {
     "name": "stdout",
     "output_type": "stream",
     "text": [
      "The first 5 entries are:\n",
      "   year    category                                           prize  \\\n",
      "0  1901   Chemistry               The Nobel Prize in Chemistry 1901   \n",
      "1  1901  Literature              The Nobel Prize in Literature 1901   \n",
      "2  1901    Medicine  The Nobel Prize in Physiology or Medicine 1901   \n",
      "3  1901       Peace                      The Nobel Peace Prize 1901   \n",
      "4  1901       Peace                      The Nobel Peace Prize 1901   \n",
      "\n",
      "                                          motivation prize_share  laureate_id  \\\n",
      "0  \"in recognition of the extraordinary services ...         1/1          160   \n",
      "1  \"in special recognition of his poetic composit...         1/1          569   \n",
      "2  \"for his work on serum therapy, especially its...         1/1          293   \n",
      "3                                                NaN         1/2          462   \n",
      "4                                                NaN         1/2          463   \n",
      "\n",
      "  laureate_type                     full_name birth_date         birth_city  \\\n",
      "0    Individual  Jacobus Henricus van 't Hoff 1852-08-30          Rotterdam   \n",
      "1    Individual               Sully Prudhomme 1839-03-16              Paris   \n",
      "2    Individual        Emil Adolf von Behring 1854-03-15  Hansdorf (Lawice)   \n",
      "3    Individual             Jean Henry Dunant 1828-05-08             Geneva   \n",
      "4    Individual                Frédéric Passy 1822-05-20              Paris   \n",
      "\n",
      "   ...   organization_name organization_city organization_country death_date  \\\n",
      "0  ...   Berlin University            Berlin              Germany 1911-03-01   \n",
      "1  ...                 NaN               NaN                  NaN 1907-09-07   \n",
      "2  ...  Marburg University           Marburg              Germany 1917-03-31   \n",
      "3  ...                 NaN               NaN                  NaN 1910-10-30   \n",
      "4  ...                 NaN               NaN                  NaN 1912-06-12   \n",
      "\n",
      "  death_city death_country gender_numeric birth_year  death_year   age  \n",
      "0     Berlin       Germany            1.0     1852.0      1911.0  59.0  \n",
      "1   Châtenay        France            1.0     1839.0      1907.0  68.0  \n",
      "2    Marburg       Germany            1.0     1854.0      1917.0  63.0  \n",
      "3     Heiden   Switzerland            1.0     1828.0      1910.0  82.0  \n",
      "4      Paris        France            1.0     1822.0      1912.0  90.0  \n",
      "\n",
      "[5 rows x 22 columns]\n"
     ]
    }
   ],
   "source": [
    "print(\"The first 5 entries are:\")\n",
    "print(df.head())"
   ]
  },
  {
   "cell_type": "markdown",
   "metadata": {},
   "source": [
    "# Problem 2\n",
    "\n",
    "How many null ('NaN') values there are in each *catagory*? What is the total number of Null values in the DataFrame?"
   ]
  },
  {
   "cell_type": "code",
   "execution_count": 406,
   "metadata": {},
   "outputs": [
    {
     "name": "stdout",
     "output_type": "stream",
     "text": [
      "The total number of null values per category: year                      0\n",
      "category                  0\n",
      "prize                     0\n",
      "motivation               88\n",
      "prize_share               0\n",
      "laureate_id               0\n",
      "laureate_type             0\n",
      "full_name                 0\n",
      "birth_date               28\n",
      "birth_city               28\n",
      "birth_country            26\n",
      "sex                      26\n",
      "organization_name       246\n",
      "organization_city       244\n",
      "organization_country    244\n",
      "death_date              318\n",
      "death_city              335\n",
      "death_country           329\n",
      "gender_numeric           26\n",
      "birth_year               28\n",
      "death_year              318\n",
      "age                     318\n",
      "dtype: int64 \n",
      "Actual total number of null values: 2602\n"
     ]
    }
   ],
   "source": [
    "print(\"The total number of null values per category:\",df.isnull().sum(),\"\\nActual total number of null values:\",df.isnull().sum().sum())"
   ]
  },
  {
   "cell_type": "markdown",
   "metadata": {},
   "source": [
    "# Problem 3\n",
    "\n",
    "Make a histogram of the number of nobel prizes awarded per year. Around which decade (1900, 1910, 1920, ...) were the least amount of prizes awarded?"
   ]
  },
  {
   "cell_type": "code",
   "execution_count": 408,
   "metadata": {},
   "outputs": [
    {
     "name": "stdout",
     "output_type": "stream",
     "text": [
      "The prizes per year were:\n",
      " year\n",
      "1901     6\n",
      "1902     7\n",
      "1903     7\n",
      "1904     6\n",
      "1905     5\n",
      "        ..\n",
      "2012    10\n",
      "2013    13\n",
      "2014    13\n",
      "2015    11\n",
      "2016    11\n",
      "Name: count, Length: 113, dtype: int64 \n",
      "The least amount of prizes according to the data was around WWII (1939-1945)\n"
     ]
    },
    {
     "data": {
      "image/png": "[encoded data removed]",
      "text/plain": [
       "<Figure size 1200x600 with 1 Axes>"
      ]
     },
     "metadata": {},
     "output_type": "display_data"
    }
   ],
   "source": [
    "df['year'] = pd.to_numeric(df['year'], errors='coerce')\n",
    "if not df['year'].dropna().empty:\n",
    "    df['year'] = df['year'].astype(int) \n",
    "    prizes_per_year = df['year'].value_counts().sort_index()\n",
    "    print(\"The prizes per year were:\\n\",prizes_per_year,\"\\nThe least amount of prizes according to the data was around WWII (1939-1945)\")\n",
    "    plt.figure(figsize=(12, 6))\n",
    "    plt.bar(prizes_per_year.index, prizes_per_year.values, color='skyblue', edgecolor='black')\n",
    "    plt.title('Number of Nobel Prizes Awarded per Year')\n",
    "    plt.xlabel('Year')\n",
    "    plt.ylabel('Number of Prizes')\n",
    "    plt.xticks(rotation=45)\n",
    "    plt.tight_layout()\n",
    "    plt.show()\n",
    "else:\n",
    "    #this was very helpful for debugging\n",
    "    print(\"No valid years found in the 'year' column.\")"
   ]
  },
  {
   "cell_type": "markdown",
   "metadata": {},
   "source": [
    "# Problem 4\n",
    "\n",
    "Use groupby method to printout the number of prizes awarded to each category. Which categroy has the most prizes?"
   ]
  },
  {
   "cell_type": "code",
   "execution_count": 384,
   "metadata": {},
   "outputs": [
    {
     "name": "stdout",
     "output_type": "stream",
     "text": [
      "Prizes awarded per category are:\n",
      " category\n",
      "Chemistry     175\n",
      "Economics      78\n",
      "Literature    113\n",
      "Medicine      211\n",
      "Peace         130\n",
      "Physics       204\n",
      "dtype: int64\n"
     ]
    }
   ],
   "source": [
    "prizes_per_category=df.groupby('category').size()\n",
    "print(\"Prizes awarded per category are:\\n\",prizes_per_category)"
   ]
  },
  {
   "cell_type": "markdown",
   "metadata": {},
   "source": [
    "# Problem 5\n",
    "\n",
    "Find percentage of the prizes were awarded to 1, 2, 3, and 4 people? Meaning what percentage of 1/1, 1/2, 1/3, and 1/4 prize_shares are there?"
   ]
  },
  {
   "cell_type": "code",
   "execution_count": 388,
   "metadata": {},
   "outputs": [
    {
     "name": "stdout",
     "output_type": "stream",
     "text": [
      "Percentage of prizes shared by 1, 2, 3, and 4 people is:\n",
      " prize_share\n",
      "1/1    37.760703\n",
      "1/2    33.589462\n",
      "1/3    22.063666\n",
      "1/4     6.586169\n",
      "Name: proportion, dtype: float64\n"
     ]
    }
   ],
   "source": [
    "share_counts=df['prize_share'].value_counts(normalize=True)*100\n",
    "print(\"Percentage of prizes shared by 1, 2, 3, and 4 people is:\\n\", share_counts)"
   ]
  },
  {
   "cell_type": "markdown",
   "metadata": {},
   "source": [
    "# Problem 6\n",
    "\n",
    "Determine how many males and females won the prize. Does the sum of male and female prizes add up to the total entries? If not, why?\n",
    "\n",
    "On the same graph make histograms for the numbber of males and females that won the prize each year. "
   ]
  },
  {
   "cell_type": "code",
   "execution_count": 400,
   "metadata": {},
   "outputs": [
    {
     "name": "stdout",
     "output_type": "stream",
     "text": [
      "Number of male and female prize winners:\n",
      " sex\n",
      "Male      836\n",
      "Female     49\n",
      "Name: count, dtype: int64 \n",
      "Does the sum of male and female entries match the total? \n",
      "Total entries: 911 \n",
      "Sum of male and female: 885 \n",
      "No, it does not match\n"
     ]
    }
   ],
   "source": [
    "gender_counts=df['sex'].value_counts()\n",
    "print(\"Number of male and female prize winners:\\n\", gender_counts,\"\\nDoes the sum of male and female entries match the total?\",\"\\nTotal entries:\", len(df),\"\\nSum of male and female:\", gender_counts.sum(),\"\\nNo, it does not match\")"
   ]
  },
  {
   "cell_type": "code",
   "execution_count": 410,
   "metadata": {},
   "outputs": [
    {
     "data": {
      "image/png": "[encoded data removed]",
      "text/plain": [
       "<Figure size 1000x600 with 1 Axes>"
      ]
     },
     "metadata": {},
     "output_type": "display_data"
    }
   ],
   "source": [
    "gender_counts = df['sex'].value_counts()\n",
    "df['year'] = pd.to_numeric(df['year'], errors='coerce')\n",
    "df['gender_numeric'] = df['sex'].map({'Male': 1, 'Female': 0})\n",
    "male_counts = []\n",
    "female_counts = []\n",
    "years = []\n",
    "for index, row in df.iterrows():\n",
    "    if row['gender_numeric'] == 1:  \n",
    "        male_counts.append(row['year'])  \n",
    "    elif row['gender_numeric'] == 0:  \n",
    "        female_counts.append(row['year'])  \n",
    "    if pd.notna(row['year']):  # Check if year is not NaN\n",
    "        years.append(row['year'])\n",
    "male_counts = [int(year) for year in male_counts if pd.notna(year)]\n",
    "female_counts = [int(year) for year in female_counts if pd.notna(year)]\n",
    "plt.figure(figsize=(10, 6))\n",
    "plt.hist(male_counts, bins=range(int(min(years)), int(max(years)) + 1), alpha=0.7, label='Male', color='blue')\n",
    "plt.hist(female_counts, bins=range(int(min(years)), int(max(years)) + 1), alpha=0.7, label='Female', color='pink')\n",
    "plt.title('Number of Male and Female Nobel Prize Winners per Year')\n",
    "plt.xlabel('Year')\n",
    "plt.ylabel('Number of Winners')\n",
    "plt.legend()\n",
    "plt.show()"
   ]
  },
  {
   "cell_type": "markdown",
   "metadata": {},
   "source": [
    "# Problem 7\n",
    "\n",
    "How many prizes were won by those whose birth country was United States of America?"
   ]
  },
  {
   "cell_type": "code",
   "execution_count": 413,
   "metadata": {},
   "outputs": [
    {
     "name": "stdout",
     "output_type": "stream",
     "text": [
      "\n",
      "Number of Nobel Prizes won by people born in the USA:\n",
      " 259\n"
     ]
    }
   ],
   "source": [
    "usa_winners = df[df['birth_country'] == 'United States of America']\n",
    "print(\"\\nNumber of Nobel Prizes won by people born in the USA:\\n\",len(usa_winners))"
   ]
  },
  {
   "cell_type": "markdown",
   "metadata": {},
   "source": [
    "# Problem 8\n",
    "\n",
    "Determine the age that each of the prize winners was when they won the prize. Find the youngest and oldest to win the prize. Find the mean age to win the prize, and the standard deviation of it. Make a histogram of the age each person was when they won the prize.\n",
    "\n",
    "### Hint: You can use Pandas DatetimeIndex method to extract the year from the date format yyyy-mm-dd\n",
    "> pd.DatetimeIndex(date).year\n",
    "\n",
    "Where *date* is given in a formate like year-month-day, the above will returen the year, hence the *.year* in the call above. Use 'shit+tab' on pandas.DatetimeIndex to learn more."
   ]
  },
  {
   "cell_type": "code",
   "execution_count": 425,
   "metadata": {},
   "outputs": [
    {
     "name": "stdout",
     "output_type": "stream",
     "text": [
      "\n",
      "The youngest Nobel Prize winner's age was:\n",
      " 39.0 \n",
      "Versus the oldest Nobel Prize winner's age:\n",
      " 103.0 \n",
      "With a mean age of Nobel Prize winners:\n",
      " 79.93591905564924 \n",
      "Its standard deviation of age:\n",
      " 10.756484917351992\n"
     ]
    }
   ],
   "source": [
    "df['birth_date']=pd.to_datetime(df['birth_date'],errors='coerce')  \n",
    "df['death_date']=pd.to_datetime(df['death_date'],errors='coerce')  \n",
    "df['birth_year']=df['birth_date'].dt.year  \n",
    "df['death_year']=df['death_date'].dt.year  \n",
    "df['age']=df['death_year']-df['birth_year']  \n",
    "print(\"\\nThe youngest Nobel Prize winner's age was:\\n\",df['age'].min(),\"\\nVersus the oldest Nobel Prize winner's age:\\n\",df['age'].max(),\"\\nWith a mean age of Nobel Prize winners:\\n\",df['age'].mean(),\"\\nIts standard deviation of age:\\n\",df['age'].std())"
   ]
  },
  {
   "cell_type": "code",
   "execution_count": 351,
   "metadata": {},
   "outputs": [
    {
     "data": {
      "image/png": "[encoded data removed]",
      "text/plain": [
       "<Figure size 1000x600 with 1 Axes>"
      ]
     },
     "metadata": {},
     "output_type": "display_data"
    }
   ],
   "source": [
    "plt.figure(figsize=(10, 6))\n",
    "df['age'].hist(bins=20, color='skyblue', edgecolor='black')\n",
    "plt.title('Age Distribution of Nobel Prize Winners')\n",
    "plt.xlabel('Age')\n",
    "plt.ylabel('Number of Winners')\n",
    "plt.show()"
   ]
  },
  {
   "cell_type": "markdown",
   "metadata": {},
   "source": [
    "# Problem 9\n",
    "\n",
    "Make a copy of the current DataFrame. Then drop the column *lauret_id* from the copied DataFrame (do this inplace so this column is gone)."
   ]
  },
  {
   "cell_type": "code",
   "execution_count": 427,
   "metadata": {},
   "outputs": [
    {
     "name": "stdout",
     "output_type": "stream",
     "text": [
      "<class 'pandas.core.frame.DataFrame'>\n",
      "RangeIndex: 911 entries, 0 to 910\n",
      "Data columns (total 21 columns):\n",
      " #   Column                Non-Null Count  Dtype         \n",
      "---  ------                --------------  -----         \n",
      " 0   year                  911 non-null    int32         \n",
      " 1   category              911 non-null    object        \n",
      " 2   prize                 911 non-null    object        \n",
      " 3   motivation            823 non-null    object        \n",
      " 4   prize_share           911 non-null    object        \n",
      " 5   laureate_type         911 non-null    object        \n",
      " 6   full_name             911 non-null    object        \n",
      " 7   birth_date            883 non-null    datetime64[ns]\n",
      " 8   birth_city            883 non-null    object        \n",
      " 9   birth_country         885 non-null    object        \n",
      " 10  sex                   885 non-null    object        \n",
      " 11  organization_name     665 non-null    object        \n",
      " 12  organization_city     667 non-null    object        \n",
      " 13  organization_country  667 non-null    object        \n",
      " 14  death_date            593 non-null    datetime64[ns]\n",
      " 15  death_city            576 non-null    object        \n",
      " 16  death_country         582 non-null    object        \n",
      " 17  gender_numeric        885 non-null    float64       \n",
      " 18  birth_year            883 non-null    float64       \n",
      " 19  death_year            593 non-null    float64       \n",
      " 20  age                   593 non-null    float64       \n",
      "dtypes: datetime64[ns](2), float64(4), int32(1), object(14)\n",
      "memory usage: 146.0+ KB\n"
     ]
    }
   ],
   "source": [
    "df_copy=df.copy()\n",
    "df_copy.drop('laureate_id',axis=1,inplace=True)\n",
    "df_copy.info()"
   ]
  },
  {
   "cell_type": "markdown",
   "metadata": {},
   "source": [
    "# Problem 10\n",
    "\n",
    "Add the age column you calculated in Problem 8 to the DataFrame."
   ]
  },
  {
   "cell_type": "code",
   "execution_count": 429,
   "metadata": {},
   "outputs": [],
   "source": [
    "df_copy['age']=df['age']"
   ]
  },
  {
   "cell_type": "code",
   "execution_count": 431,
   "metadata": {},
   "outputs": [
    {
     "name": "stdout",
     "output_type": "stream",
     "text": [
      "<class 'pandas.core.frame.DataFrame'>\n",
      "RangeIndex: 911 entries, 0 to 910\n",
      "Data columns (total 21 columns):\n",
      " #   Column                Non-Null Count  Dtype         \n",
      "---  ------                --------------  -----         \n",
      " 0   year                  911 non-null    int32         \n",
      " 1   category              911 non-null    object        \n",
      " 2   prize                 911 non-null    object        \n",
      " 3   motivation            823 non-null    object        \n",
      " 4   prize_share           911 non-null    object        \n",
      " 5   laureate_type         911 non-null    object        \n",
      " 6   full_name             911 non-null    object        \n",
      " 7   birth_date            883 non-null    datetime64[ns]\n",
      " 8   birth_city            883 non-null    object        \n",
      " 9   birth_country         885 non-null    object        \n",
      " 10  sex                   885 non-null    object        \n",
      " 11  organization_name     665 non-null    object        \n",
      " 12  organization_city     667 non-null    object        \n",
      " 13  organization_country  667 non-null    object        \n",
      " 14  death_date            593 non-null    datetime64[ns]\n",
      " 15  death_city            576 non-null    object        \n",
      " 16  death_country         582 non-null    object        \n",
      " 17  gender_numeric        885 non-null    float64       \n",
      " 18  birth_year            883 non-null    float64       \n",
      " 19  death_year            593 non-null    float64       \n",
      " 20  age                   593 non-null    float64       \n",
      "dtypes: datetime64[ns](2), float64(4), int32(1), object(14)\n",
      "memory usage: 146.0+ KB\n"
     ]
    }
   ],
   "source": [
    "df_copy.info()"
   ]
  }
 ],
 "metadata": {
  "kernelspec": {
   "display_name": "Python 3 (ipykernel)",
   "language": "python",
   "name": "python3"
  },
  "language_info": {
   "codemirror_mode": {
    "name": "ipython",
    "version": 3
   },
   "file_extension": ".py",
   "mimetype": "text/x-python",
   "name": "python",
   "nbconvert_exporter": "python",
   "pygments_lexer": "ipython3",
   "version": "3.11.5"
  }
 },
 "nbformat": 4,
 "nbformat_minor": 4
}
