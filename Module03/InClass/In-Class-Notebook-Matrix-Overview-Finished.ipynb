{
 "cells": [
  {
   "cell_type": "code",
   "execution_count": 1,
   "id": "1046f22f",
   "metadata": {},
   "outputs": [],
   "source": [
    "import numpy as np\n",
    "%matplotlib inline"
   ]
  },
  {
   "cell_type": "markdown",
   "id": "fe064b7d",
   "metadata": {},
   "source": [
    "# Matrix Review"
   ]
  },
  {
   "cell_type": "markdown",
   "id": "32ab1ffd",
   "metadata": {},
   "source": [
    "Take the matricies:\n",
    "\n",
    "$\\bf{A} =\n",
    "\\begin{pmatrix}\n",
    "2 & 4 & -7\\\\\n",
    "3 & -3 & 0\\\\\n",
    "1 & 7 & 5\n",
    "\\end{pmatrix},\\;\\;\n",
    "\\bf{B} =\n",
    "\\begin{pmatrix}\n",
    "2 & 4\\\\\n",
    "3 & -3\\\\\n",
    "1 & 7\n",
    "\\end{pmatrix}, \\;\\;\n",
    "\\bf{C} =\n",
    "\\begin{pmatrix}\n",
    "-1 & 1\\\\\n",
    "1 & -1\n",
    "\\end{pmatrix}, \\;\\;\n",
    "\\bf{D} = \n",
    "\\begin{pmatrix}\n",
    "2 & 0\\\\\n",
    "-3 & 6\n",
    "\\end{pmatrix}\n",
    "$ \n",
    "\n",
    "Define the matricies as numpy arrays"
   ]
  },
  {
   "cell_type": "code",
   "execution_count": 9,
   "id": "2a79ff35",
   "metadata": {},
   "outputs": [
    {
     "name": "stdout",
     "output_type": "stream",
     "text": [
      "Matrix A:\n",
      " [[ 2  4 -7]\n",
      " [ 3 -3  0]\n",
      " [ 1  7  5]]\n",
      "Matrix B:\n",
      " [[ 2  4]\n",
      " [ 3 -3]\n",
      " [ 1  7]]\n",
      "Matrix C:\n",
      " [[-1  1]\n",
      " [ 1 -1]]\n",
      "Matrix D:\n",
      " [[ 2  0]\n",
      " [-3  6]]\n"
     ]
    }
   ],
   "source": [
    "A=np.array([[2, 4, -7],\n",
    "            [3, -3, 0],\n",
    "            [1, 7, 5]])\n",
    "B=np.array([[2, 4],\n",
    "            [3, -3],\n",
    "            [1, 7]])\n",
    "C=np.array([[-1, 1],\n",
    "            [1, -1]])\n",
    "D=np.array([[2, 0],\n",
    "            [-3, 6]])\n",
    "\n",
    "print(\"Matrix A:\\n\", A)\n",
    "print(\"Matrix B:\\n\", B)\n",
    "print(\"Matrix C:\\n\", C)\n",
    "print(\"Matrix D:\\n\", D)"
   ]
  },
  {
   "cell_type": "markdown",
   "id": "34e68189",
   "metadata": {},
   "source": [
    "1. Multiply $\\bf{A}$ by 2.5 "
   ]
  },
  {
   "cell_type": "code",
   "execution_count": 11,
   "id": "df60132e",
   "metadata": {},
   "outputs": [
    {
     "name": "stdout",
     "output_type": "stream",
     "text": [
      "A*2.5= [[  5.   10.  -17.5]\n",
      " [  7.5  -7.5   0. ]\n",
      " [  2.5  17.5  12.5]]\n"
     ]
    }
   ],
   "source": [
    "Product_A=A*2.5\n",
    "print(\"A*2.5=\",Product_A)"
   ]
  },
  {
   "cell_type": "markdown",
   "id": "498f92cf",
   "metadata": {},
   "source": [
    "2. Evaluate the product of $\\bf{C}\\cdot\\bf{A}$ \n",
    "\n",
    "Did you get an error? Do you know why? (Hint: look at the dimensions of the matrix)\n",
    "- Got an error. the matrices are 2x2 and 3x3, so can't multiply need number of rows to match columns of other "
   ]
  },
  {
   "cell_type": "code",
   "execution_count": 15,
   "id": "a3b0a245",
   "metadata": {},
   "outputs": [
    {
     "ename": "ValueError",
     "evalue": "shapes (2,2) and (3,3) not aligned: 2 (dim 1) != 3 (dim 0)",
     "output_type": "error",
     "traceback": [
      "\u001b[1;31m---------------------------------------------------------------------------\u001b[0m",
      "\u001b[1;31mValueError\u001b[0m                                Traceback (most recent call last)",
      "Cell \u001b[1;32mIn[15], line 1\u001b[0m\n\u001b[1;32m----> 1\u001b[0m Product_C_A\u001b[38;5;241m=\u001b[39mnp\u001b[38;5;241m.\u001b[39mdot(C,A)\n",
      "File \u001b[1;32m<__array_function__ internals>:200\u001b[0m, in \u001b[0;36mdot\u001b[1;34m(*args, **kwargs)\u001b[0m\n",
      "\u001b[1;31mValueError\u001b[0m: shapes (2,2) and (3,3) not aligned: 2 (dim 1) != 3 (dim 0)"
     ]
    }
   ],
   "source": [
    "Product_C_A=C*A\n",
    "#np.dot(C,A)"
   ]
  },
  {
   "cell_type": "markdown",
   "id": "6ae4c4c7",
   "metadata": {},
   "source": [
    "3. Evaluate the product of $\\bf{C}\\cdot\\bf{D}$ and then $\\bf{D}\\cdot\\bf{C}$. Do you get the same results? \n",
    "- different answers CD != DC"
   ]
  },
  {
   "cell_type": "code",
   "execution_count": 17,
   "id": "ef09127a",
   "metadata": {},
   "outputs": [
    {
     "name": "stdout",
     "output_type": "stream",
     "text": [
      "C*D= [[-2  0]\n",
      " [-3 -6]]\n",
      "D*C= [[-2  0]\n",
      " [-3 -6]]\n"
     ]
    }
   ],
   "source": [
    "Product_C_D=C*D\n",
    "Product_D_C=D*C\n",
    "print(\"C*D=\",Product_C_D)\n",
    "print(\"D*C=\",Product_D_C)"
   ]
  },
  {
   "cell_type": "markdown",
   "id": "2c9c038a",
   "metadata": {},
   "source": [
    "4. Find the transpose of $\\bf{B}$"
   ]
  },
  {
   "cell_type": "code",
   "execution_count": 21,
   "id": "cc53078b",
   "metadata": {},
   "outputs": [
    {
     "name": "stdout",
     "output_type": "stream",
     "text": [
      "[[ 2  3  1]\n",
      " [ 4 -3  7]]\n"
     ]
    }
   ],
   "source": [
    "B_transpose=B.T\n",
    "print(B_transpose)"
   ]
  },
  {
   "cell_type": "markdown",
   "id": "d0bb231c",
   "metadata": {},
   "source": [
    "5. Add $\\bf{C} + \\bf{D}$"
   ]
  },
  {
   "cell_type": "code",
   "execution_count": 19,
   "id": "67c6fea8",
   "metadata": {},
   "outputs": [
    {
     "name": "stdout",
     "output_type": "stream",
     "text": [
      "C+D= [[ 1  1]\n",
      " [-2  5]]\n"
     ]
    }
   ],
   "source": [
    "Sum_C_D=C+D\n",
    "print(\"C+D=\",Sum_C_D)"
   ]
  },
  {
   "cell_type": "markdown",
   "id": "51215fe4",
   "metadata": {},
   "source": [
    "6. Compute the determinate of $\\bf{C}$"
   ]
  },
  {
   "cell_type": "code",
   "execution_count": 27,
   "id": "cf9dd452",
   "metadata": {},
   "outputs": [
    {
     "name": "stdout",
     "output_type": "stream",
     "text": [
      "The determinate of C = 0.0\n"
     ]
    }
   ],
   "source": [
    "determinate_C=np.linalg.det(C)\n",
    "print(\"The determinate of C =\", determinate_C)"
   ]
  },
  {
   "cell_type": "markdown",
   "id": "7ada1b24",
   "metadata": {},
   "source": [
    "7. Compute the determinate of $\\bf{A}$"
   ]
  },
  {
   "cell_type": "code",
   "execution_count": 29,
   "id": "32c185f8",
   "metadata": {},
   "outputs": [
    {
     "name": "stdout",
     "output_type": "stream",
     "text": [
      "The determinate of A = -257.9999999999998\n"
     ]
    }
   ],
   "source": [
    "determinate_A=np.linalg.det(A)\n",
    "print(\"The determinate of A =\", determinate_A)"
   ]
  },
  {
   "cell_type": "code",
   "execution_count": null,
   "id": "ccdad68d-a959-4b03-8d97-9ac6e47c1a1a",
   "metadata": {},
   "outputs": [],
   "source": []
  }
 ],
 "metadata": {
  "kernelspec": {
   "display_name": "Python 3 (ipykernel)",
   "language": "python",
   "name": "python3"
  },
  "language_info": {
   "codemirror_mode": {
    "name": "ipython",
    "version": 3
   },
   "file_extension": ".py",
   "mimetype": "text/x-python",
   "name": "python",
   "nbconvert_exporter": "python",
   "pygments_lexer": "ipython3",
   "version": "3.11.5"
  }
 },
 "nbformat": 4,
 "nbformat_minor": 5
}
